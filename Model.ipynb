{
 "cells": [
  {
   "cell_type": "code",
   "execution_count": 1,
   "metadata": {},
   "outputs": [],
   "source": [
    "#Imports\n",
    "\n",
    "from sklearn import tree\n",
    "from matplotlib import pyplot as plt\n",
    "import numpy as np\n",
    "from sklearn.preprocessing import StandardScaler\n",
    "from sklearn.model_selection import train_test_split\n",
    "from sklearn.neural_network import MLPRegressor\n",
    "from sklearn import model_selection\n",
    "from pprint import pprint\n",
    "from matplotlib.pyplot import scatter \n",
    "import pandas as pd\n",
    "import warnings\n",
    "import sys\n",
    "warnings.filterwarnings('ignore')\n",
    "np.set_printoptions(suppress=True)"
   ]
  },
  {
   "cell_type": "code",
   "execution_count": 2,
   "metadata": {},
   "outputs": [],
   "source": [
    "#Data filtering functions (gets rid of lines containing the same scores for all configurations)\n",
    "\n",
    "def data_filter(data):\n",
    "    for line in data:\n",
    "        print(np.array(line[-5:]))\n",
    "        if np.array_equal(np.array(line[-5:]),np.zeros(5)):\n",
    "            data.remove(line)\n",
    "    return data\n",
    "       "
   ]
  },
  {
   "cell_type": "code",
   "execution_count": 3,
   "metadata": {
    "scrolled": false
   },
   "outputs": [
    {
     "name": "stdout",
     "output_type": "stream",
     "text": [
      "[[     2.    67479.     1831.   ...      0.03      0.        0.11]\n",
      " [     2.    82185.     2309.   ...      0.03      0.        0.11]\n",
      " [     2.     1918.       18.   ...      0.01      0.        0.01]\n",
      " ...\n",
      " [     3.       45.       39.   ...      0.87      0.        1.  ]\n",
      " [     3.       91.       60.   ...      0.66      0.        1.  ]\n",
      " [     3.   151053.       50.   ...      0.        0.        0.  ]]\n"
     ]
    }
   ],
   "source": [
    "#Importing Data from file\n",
    "dataset = np.genfromtxt(\"all-data-filtered\", delimiter='')\n",
    "\n",
    "#Input\n",
    "Input = dataset[:, :-8]\n",
    "print(np.array(Input))\n",
    "#Features\n",
    "features_file = open(\"Data-Extraction/features\", \"r\")\n",
    "features = features_file.readlines()\n",
    "\n",
    "#Applying scaling\n",
    "sc = StandardScaler()\n",
    "Input = sc.fit_transform(Input)"
   ]
  },
  {
   "cell_type": "code",
   "execution_count": 4,
   "metadata": {},
   "outputs": [],
   "source": [
    "Outputs=[]\n",
    "\n",
    "for i in range(0,8):\n",
    "    Output=dataset[:, i-8]\n",
    "    Outputs.append(Output)\n",
    "    "
   ]
  },
  {
   "cell_type": "code",
   "execution_count": 5,
   "metadata": {},
   "outputs": [],
   "source": [
    "import time\n",
    "import random\n",
    "\n",
    "#Function that, given a configuration, outputs a table summarizing the best parameters to consider for that configuration\n",
    "#Note: c is the configuration number: goes from 0 to 7\n",
    "\n",
    "def tableConfig(c):\n",
    "    \n",
    "    hidden_layer_sizes=[(100,),(250,400)]\n",
    "    activation=['identity','logistic']\n",
    "    early_stopping =[False,True]\n",
    "    max_iter=[1000,2500]\n",
    "    \n",
    "    max=-sys.maxsize - 1\n",
    "    Output=Outputs[c]\n",
    "    \n",
    "    x_train, x_test, y_train, y_test = model_selection.train_test_split(Input, Output, random_state=1, test_size = 0.20)\n",
    "    #x_test, x_validation, y_test, y_validation = model_selection.train_test_split(x_test, y_test, test_size=0.25, random_state=42)\n",
    "    \n",
    "    for i in hidden_layer_sizes: \n",
    "        for j in activation: \n",
    "            for k in early_stopping:   \n",
    "                for n in max_iter:\n",
    "                                \n",
    "                    mlp = MLPRegressor(\n",
    "                        hidden_layer_sizes=i,\n",
    "                        activation= j,\n",
    "                        early_stopping = k,\n",
    "                        validation_fraction=0.1,\n",
    "                        n_iter_no_change=100,\n",
    "                        max_iter= n, \n",
    "                        learning_rate_init=0.01            \n",
    "                                )\n",
    "                    mlp.fit(x_train, y_train)\n",
    "                    \n",
    "                    if max<mlp.score(x_test, y_test):\n",
    "                        max=mlp.score(x_test, y_test)\n",
    "                        bestLayers=i\n",
    "                        bestActivation=j\n",
    "                        bestStopping=k\n",
    "                        bestIter=n         \n",
    "                        \n",
    "    bestConfig=[bestLayers,bestActivation,bestStopping,0.1,100,bestIter,0.01]                            \n",
    "    return bestConfig\n",
    "    \n",
    "\n"
   ]
  },
  {
   "cell_type": "code",
   "execution_count": 6,
   "metadata": {},
   "outputs": [
    {
     "data": {
      "text/plain": [
       "[(100,), 'logistic', False, 0.1, 100, 1000, 0.01]"
      ]
     },
     "execution_count": 6,
     "metadata": {},
     "output_type": "execute_result"
    }
   ],
   "source": [
    "tableConfig(0)"
   ]
  },
  {
   "cell_type": "code",
   "execution_count": 7,
   "metadata": {
    "scrolled": true
   },
   "outputs": [],
   "source": [
    "treeConfigs=[]\n",
    "\n",
    "for i in range(0,8):\n",
    "    treeConfigs.append(tableConfig(i))\n",
    "\n"
   ]
  },
  {
   "cell_type": "code",
   "execution_count": 8,
   "metadata": {},
   "outputs": [
    {
     "name": "stdout",
     "output_type": "stream",
     "text": [
      "[(100,) 'logistic' False 0.1 100 1000 0.01]\n"
     ]
    }
   ],
   "source": [
    "print(np.array(treeConfigs[0]))"
   ]
  },
  {
   "cell_type": "code",
   "execution_count": 9,
   "metadata": {},
   "outputs": [
    {
     "data": {
      "image/png": "[encoded data removed]",
      "text/plain": [
       "<Figure size 432x288 with 1 Axes>"
      ]
     },
     "metadata": {
      "needs_background": "light"
     },
     "output_type": "display_data"
    },
    {
     "name": "stdout",
     "output_type": "stream",
     "text": [
      "37.057026151389785 %\n"
     ]
    }
   ],
   "source": [
    "Configs=[]\n",
    "trainScores=[]\n",
    "testScores=[]\n",
    "xTrain=[]\n",
    "yTrain=[]\n",
    "xTest=[]\n",
    "yTest=[]\n",
    "Gaps=[]\n",
    "Trees=[]\n",
    "gap=0\n",
    "mlps=[]\n",
    "\n",
    "\n",
    "#Collecting Trains & Test vectors for MLP Regressor Evaluation\n",
    "for i in range(1,9):\n",
    "    Configs.append(\"C\"+str(i))\n",
    "    Output=dataset[:,i-9]\n",
    "    #print(\"Configuration \",i,\" : \")\n",
    "    #print(Output)\n",
    "\n",
    "    #Data splitting: training set & test set: 20% | 80%\n",
    "    x_train, x_test, y_train, y_test = model_selection.train_test_split(Input, Output, random_state=1, test_size = 0.20)\n",
    "    x_test, x_validation, y_test, y_validation = model_selection.train_test_split(x_test, y_test, test_size=0.25, random_state=42)\n",
    " \n",
    "    xTrain.append(x_train)\n",
    "    yTrain.append(y_train)\n",
    "    xTest.append(x_test)\n",
    "    yTest.append(y_test)\n",
    "    \n",
    "for i in range(0,8):\n",
    "    \n",
    "    mlp = MLPRegressor(\n",
    "    hidden_layer_sizes=treeConfigs[i][0],\n",
    "    activation= treeConfigs[i][1],\n",
    "    early_stopping=treeConfigs[i][2],\n",
    "    validation_fraction=treeConfigs[i][3],\n",
    "    n_iter_no_change=treeConfigs[i][4],\n",
    "    max_iter= treeConfigs[i][5], \n",
    "    learning_rate_init=treeConfigs[i][6] \n",
    "    )\n",
    "    \n",
    "    #Training\n",
    "    mlp.fit(xTrain[i], yTrain[i])\n",
    "\n",
    "    #Analyzing scores\n",
    "    #print('Train score ',1,': ', mlp.score(x_train, y_train))\n",
    "    #print('Test score ',1,': ', mlp.score(x_test, y_test))\n",
    "    #print('\\n')\n",
    "    trainScores.append(mlp.score(xTrain[i], yTrain[i])*100)\n",
    "    testScores.append(mlp.score(xTest[i], yTest[i])*100)\n",
    "    gap+=abs((mlp.score(xTrain[i], yTrain[i])-mlp.score(xTest[i], yTest[i]))*100)\n",
    "    mlps.append(mlp)\n",
    "    \n",
    "gap/=len(Configs)\n",
    "scatter(Configs,trainScores,c='red',label='Train Score')\n",
    "scatter(Configs,testScores,c='blue',label='Test Score')\n",
    "plt.xlabel(\"Configurations\")\n",
    "plt.ylabel(\"Scores\")\n",
    "plt.legend()\n",
    "plt.show()\n",
    "\n",
    "print(gap,\"%\")\n",
    "Gaps.append(gap)"
   ]
  },
  {
   "cell_type": "code",
   "execution_count": 10,
   "metadata": {
    "scrolled": true
   },
   "outputs": [
    {
     "name": "stdout",
     "output_type": "stream",
     "text": [
      "[43.98572823]\n",
      "[43.47190522]\n",
      "[76.13988228]\n",
      "[66.73391438]\n",
      "[-13.86781235]\n",
      "[-20.73454379]\n",
      "[55.66354655]\n",
      "[54.995445]\n"
     ]
    }
   ],
   "source": [
    "import array\n",
    "\n",
    "for i in range(0,8):\n",
    "    print(mlps[i].predict(np.reshape([2, 82185, 2309, 0, 87536, 9671, 0.03, 0, 0.11],(1, -1))))"
   ]
  },
  {
   "cell_type": "code",
   "execution_count": 11,
   "metadata": {},
   "outputs": [],
   "source": [
    "def best_config(instance):\n",
    "    scores=[]\n",
    "    for i in range(0,8):\n",
    "        scores.append(mlps[i].predict(np.reshape(instance,(1, -1))))\n",
    "    return \"Best configuration for this instance in Configuration \"+str(scores.index(max(scores))+1)"
   ]
  },
  {
   "cell_type": "code",
   "execution_count": 12,
   "metadata": {},
   "outputs": [
    {
     "data": {
      "text/plain": [
       "'Best configuration for this instance in Configuration 3'"
      ]
     },
     "execution_count": 12,
     "metadata": {},
     "output_type": "execute_result"
    }
   ],
   "source": [
    "best_config([2, 18555, 1341, 0, 19260, 61, 0.07, 0, 0])"
   ]
  }
 ],
 "metadata": {
  "kernelspec": {
   "display_name": "Python 3",
   "language": "python",
   "name": "python3"
  },
  "language_info": {
   "codemirror_mode": {
    "name": "ipython",
    "version": 3
   },
   "file_extension": ".py",
   "mimetype": "text/x-python",
   "name": "python",
   "nbconvert_exporter": "python",
   "pygments_lexer": "ipython3",
   "version": "3.8.5"
  }
 },
 "nbformat": 4,
 "nbformat_minor": 5
}
