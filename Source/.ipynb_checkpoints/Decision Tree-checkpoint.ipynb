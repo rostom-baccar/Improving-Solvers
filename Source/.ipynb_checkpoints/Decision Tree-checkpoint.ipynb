{
 "cells": [
  {
   "cell_type": "code",
   "execution_count": 46,
   "metadata": {},
   "outputs": [],
   "source": [
    "#Imports\n",
    "\n",
    "from sklearn import tree\n",
    "from matplotlib import pyplot as plt\n"
   ]
  },
  {
   "cell_type": "code",
   "execution_count": 47,
   "metadata": {},
   "outputs": [],
   "source": [
    "#Some examples before automating data extraction\n",
    "\n",
    "Input=[\n",
    "    [ 1, 10560, 10560, 0, 10320, 330, 1, 0, 0.03 ],\n",
    "    [ 2, 14975, 52, 0, 15274, 51, 0, 0, 0 ],\n",
    "    [ 3, 5974, 19, 0, 6133, 1374, 0, 0, 0.22 ],\n",
    "    [ 2, 224917, 198, 0, 235698, 199, 0, 0,0 ],\n",
    "    [ 2, 14975, 52, 0, 15274, 51, 0, 0,0 ],\n",
    "    [ 2, 47935, 100, 0, 49152, 89, 0, 0, 0 ],\n",
    "    [ 2, 71351, 110, 0, 72795, 111, 0, 0, 0 ],\n",
    "    [ 2, 43180, 10, 0, 46937, 4856, 0, 0, 0.1 ],\n",
    "    [ 2, 12628, 10, 0, 13761, 1416, 0, 0, 0.1 ],\n",
    "    [ 2, 16773, 10, 0, 18206, 1886, 0, 0, 0.1 ],\n",
    "    [ 2, 20017, 10, 0, 21774, 2246, 0, 0, 0.1 ],\n",
    "    [ 2, 26085, 10, 0, 28418, 2926, 0, 0, 0.1 ],\n",
    "    [ 1, 4995, 583, 0, 5036, 104, 0.12, 0, 0.02 ],\n",
    "    [ 1, 5894, 973, 0, 5929, 98, 0.17, 0, 0.02 ],\n",
    "    [ 1, 6730, 936, 0, 6774, 116, 0.14, 0, 0.02 ],\n",
    "    [ 1, 7515, 1065, 0, 7560, 120, 0.14, 0, 0.02 ],\n",
    "    [ 3, 5974, 19, 0, 6133, 1374, 0, 0, 0.22 ],\n",
    "    [ 3, 22655, 37, 0, 23303, 5163, 0, 0, 0.22 ],\n",
    "    [ 3, 23605, 38, 0, 24294, 5368, 0, 0, 0.22 ],\n",
    "    [ 3, 67278, 59, 0, 68955, 13151, 0, 0, 0.19 ],\n",
    "    [ 3, 93244, 76, 0, 96079, 21099, 0, 0, 0.22 ],\n",
    "    [ 3, 14671, 115, 0, 16156, 231, 0.01, 0, 0.01],\n",
    "    [ 1, 2524, 64, 0, 2462, 54, 0.03, 0, 0.02 ],\n",
    "    [ 1, 11534, 144, 0, 11392, 128, 0.01, 0, 0.01 ],\n",
    "    [ 1, 101071, 441, 0, 100632, 412, 0, 0, 0 ]    \n",
    "]\n",
    "\n",
    "Output=[\n",
    "    [ 100, 22.8571, 42.1053, 0, 0 ],\n",
    "    [ 99.99, 83.325, 92.8257, 0, 0 ],\n",
    "    [ 99.99, 99.9528, 96.7655, 99.2344, 0 ],\n",
    "    [ 0, 0, 0, 0, 0 ],\n",
    "    [ 99.99, 82.5895, 97.2844, 0, 0 ],\n",
    "    [ 99.973, 0, 99.99, 0, 0 ],\n",
    "    [ 99.99, 0, 99.9444, 0, 0 ],\n",
    "    [ 99.99, 94.8262, 99.99, 81.2146, 82.1864 ],\n",
    "    [ 99.99, 99.99, 99.99, 94.9905, 81.3771 ],\n",
    "    [ 84.4593, 99.99, 99.99, 94.0766, 80.8845 ],\n",
    "    [ 94.94, 99.99, 92.7282, 83.5055, 83.2657 ],\n",
    "    [ 86.3419, 99.99, 84.7799, 0, 79.4505 ],\n",
    "    [ 0, 0, 0, 0, 0 ],\n",
    "    [ 0, 0, 0, 0, 0 ],\n",
    "    [ 0, 0, 0, 0, 0 ],\n",
    "    [ 0, 0, 0, 0, 0 ],\n",
    "    [ 99.99, 97.1753, 99.9528, 96.5421, 0 ],\n",
    "    [ 0, 0, 0, 0, 0 ],\n",
    "    [ 0, 0, 0, 0, 0 ],\n",
    "    [ 99.99, 0, 0, 0, 0 ],\n",
    "    [ 68.7874, 85.0979, 73.7515, 69.4966, 99.99 ],\n",
    "    [ 0, 0, 0, 0, 0 ],\n",
    "    [ 0, 0, 0, 0, 0 ],\n",
    "    [ 0, 0, 0, 0, 0 ],\n",
    "    [ 0, 0, 0, 0, 0 ]\n",
    "]\n",
    "\n",
    "Caracteristics=[\n",
    "    'Satisfaction/Minization/Maximisation',\n",
    "    'Variables',\n",
    "    'SmallVariables',\n",
    "    'Constraints',\n",
    "    'GlobalConstraints',\n",
    "    'SearchVars/Vars',\n",
    "    'SmallVars/vars',\n",
    "    'GlobalConstraints/Constraints',\n",
    "    'Vars/Constraints'\n",
    "]\n",
    "\n"
   ]
  },
  {
   "cell_type": "code",
   "execution_count": 49,
   "metadata": {},
   "outputs": [
    {
     "ename": "ValueError",
     "evalue": "Unknown label type: 'continuous-multioutput'",
     "output_type": "error",
     "traceback": [
      "\u001b[0;31m---------------------------------------------------------------------------\u001b[0m",
      "\u001b[0;31mValueError\u001b[0m                                Traceback (most recent call last)",
      "Input \u001b[0;32mIn [49]\u001b[0m, in \u001b[0;36m<cell line: 4>\u001b[0;34m()\u001b[0m\n\u001b[1;32m      1\u001b[0m \u001b[38;5;66;03m#Tree construction\u001b[39;00m\n\u001b[1;32m      3\u001b[0m clf \u001b[38;5;241m=\u001b[39m tree\u001b[38;5;241m.\u001b[39mDecisionTreeClassifier()\n\u001b[0;32m----> 4\u001b[0m clf \u001b[38;5;241m=\u001b[39m \u001b[43mclf\u001b[49m\u001b[38;5;241;43m.\u001b[39;49m\u001b[43mfit\u001b[49m\u001b[43m(\u001b[49m\u001b[43mInput\u001b[49m\u001b[43m,\u001b[49m\u001b[43m \u001b[49m\u001b[43mOutput\u001b[49m\u001b[43m)\u001b[49m\n",
      "File \u001b[0;32m~/Desktop/notebook/jupyterenv/lib/python3.8/site-packages/sklearn/tree/_classes.py:937\u001b[0m, in \u001b[0;36mDecisionTreeClassifier.fit\u001b[0;34m(self, X, y, sample_weight, check_input, X_idx_sorted)\u001b[0m\n\u001b[1;32m    899\u001b[0m \u001b[38;5;28;01mdef\u001b[39;00m \u001b[38;5;21mfit\u001b[39m(\n\u001b[1;32m    900\u001b[0m     \u001b[38;5;28mself\u001b[39m, X, y, sample_weight\u001b[38;5;241m=\u001b[39m\u001b[38;5;28;01mNone\u001b[39;00m, check_input\u001b[38;5;241m=\u001b[39m\u001b[38;5;28;01mTrue\u001b[39;00m, X_idx_sorted\u001b[38;5;241m=\u001b[39m\u001b[38;5;124m\"\u001b[39m\u001b[38;5;124mdeprecated\u001b[39m\u001b[38;5;124m\"\u001b[39m\n\u001b[1;32m    901\u001b[0m ):\n\u001b[1;32m    902\u001b[0m     \u001b[38;5;124;03m\"\"\"Build a decision tree classifier from the training set (X, y).\u001b[39;00m\n\u001b[1;32m    903\u001b[0m \n\u001b[1;32m    904\u001b[0m \u001b[38;5;124;03m    Parameters\u001b[39;00m\n\u001b[0;32m   (...)\u001b[0m\n\u001b[1;32m    934\u001b[0m \u001b[38;5;124;03m        Fitted estimator.\u001b[39;00m\n\u001b[1;32m    935\u001b[0m \u001b[38;5;124;03m    \"\"\"\u001b[39;00m\n\u001b[0;32m--> 937\u001b[0m     \u001b[38;5;28;43msuper\u001b[39;49m\u001b[43m(\u001b[49m\u001b[43m)\u001b[49m\u001b[38;5;241;43m.\u001b[39;49m\u001b[43mfit\u001b[49m\u001b[43m(\u001b[49m\n\u001b[1;32m    938\u001b[0m \u001b[43m        \u001b[49m\u001b[43mX\u001b[49m\u001b[43m,\u001b[49m\n\u001b[1;32m    939\u001b[0m \u001b[43m        \u001b[49m\u001b[43my\u001b[49m\u001b[43m,\u001b[49m\n\u001b[1;32m    940\u001b[0m \u001b[43m        \u001b[49m\u001b[43msample_weight\u001b[49m\u001b[38;5;241;43m=\u001b[39;49m\u001b[43msample_weight\u001b[49m\u001b[43m,\u001b[49m\n\u001b[1;32m    941\u001b[0m \u001b[43m        \u001b[49m\u001b[43mcheck_input\u001b[49m\u001b[38;5;241;43m=\u001b[39;49m\u001b[43mcheck_input\u001b[49m\u001b[43m,\u001b[49m\n\u001b[1;32m    942\u001b[0m \u001b[43m        \u001b[49m\u001b[43mX_idx_sorted\u001b[49m\u001b[38;5;241;43m=\u001b[39;49m\u001b[43mX_idx_sorted\u001b[49m\u001b[43m,\u001b[49m\n\u001b[1;32m    943\u001b[0m \u001b[43m    \u001b[49m\u001b[43m)\u001b[49m\n\u001b[1;32m    944\u001b[0m     \u001b[38;5;28;01mreturn\u001b[39;00m \u001b[38;5;28mself\u001b[39m\n",
      "File \u001b[0;32m~/Desktop/notebook/jupyterenv/lib/python3.8/site-packages/sklearn/tree/_classes.py:203\u001b[0m, in \u001b[0;36mBaseDecisionTree.fit\u001b[0;34m(self, X, y, sample_weight, check_input, X_idx_sorted)\u001b[0m\n\u001b[1;32m    200\u001b[0m \u001b[38;5;28mself\u001b[39m\u001b[38;5;241m.\u001b[39mn_outputs_ \u001b[38;5;241m=\u001b[39m y\u001b[38;5;241m.\u001b[39mshape[\u001b[38;5;241m1\u001b[39m]\n\u001b[1;32m    202\u001b[0m \u001b[38;5;28;01mif\u001b[39;00m is_classification:\n\u001b[0;32m--> 203\u001b[0m     \u001b[43mcheck_classification_targets\u001b[49m\u001b[43m(\u001b[49m\u001b[43my\u001b[49m\u001b[43m)\u001b[49m\n\u001b[1;32m    204\u001b[0m     y \u001b[38;5;241m=\u001b[39m np\u001b[38;5;241m.\u001b[39mcopy(y)\n\u001b[1;32m    206\u001b[0m     \u001b[38;5;28mself\u001b[39m\u001b[38;5;241m.\u001b[39mclasses_ \u001b[38;5;241m=\u001b[39m []\n",
      "File \u001b[0;32m~/Desktop/notebook/jupyterenv/lib/python3.8/site-packages/sklearn/utils/multiclass.py:197\u001b[0m, in \u001b[0;36mcheck_classification_targets\u001b[0;34m(y)\u001b[0m\n\u001b[1;32m    189\u001b[0m y_type \u001b[38;5;241m=\u001b[39m type_of_target(y)\n\u001b[1;32m    190\u001b[0m \u001b[38;5;28;01mif\u001b[39;00m y_type \u001b[38;5;129;01mnot\u001b[39;00m \u001b[38;5;129;01min\u001b[39;00m [\n\u001b[1;32m    191\u001b[0m     \u001b[38;5;124m\"\u001b[39m\u001b[38;5;124mbinary\u001b[39m\u001b[38;5;124m\"\u001b[39m,\n\u001b[1;32m    192\u001b[0m     \u001b[38;5;124m\"\u001b[39m\u001b[38;5;124mmulticlass\u001b[39m\u001b[38;5;124m\"\u001b[39m,\n\u001b[0;32m   (...)\u001b[0m\n\u001b[1;32m    195\u001b[0m     \u001b[38;5;124m\"\u001b[39m\u001b[38;5;124mmultilabel-sequences\u001b[39m\u001b[38;5;124m\"\u001b[39m,\n\u001b[1;32m    196\u001b[0m ]:\n\u001b[0;32m--> 197\u001b[0m     \u001b[38;5;28;01mraise\u001b[39;00m \u001b[38;5;167;01mValueError\u001b[39;00m(\u001b[38;5;124m\"\u001b[39m\u001b[38;5;124mUnknown label type: \u001b[39m\u001b[38;5;132;01m%r\u001b[39;00m\u001b[38;5;124m\"\u001b[39m \u001b[38;5;241m%\u001b[39m y_type)\n",
      "\u001b[0;31mValueError\u001b[0m: Unknown label type: 'continuous-multioutput'"
     ]
    }
   ],
   "source": [
    "#Tree construction\n",
    "#PROBLEM: Input and Output are not binary, need to find another way\n",
    "\n",
    "\n",
    "clf = tree.DecisionTreeClassifier()\n",
    "clf = clf.fit(Input, Output)\n",
    "#fig = plt.figure(figsize=(10,7))\n",
    "#_ = tree.plot_tree(clf, \n",
    "#                   feature_names= (Caracteristics),\n",
    "#                   class_names= ('Runtime'), \n",
    "#                    filled=True)"
   ]
  },
  {
   "cell_type": "code",
   "execution_count": null,
   "metadata": {},
   "outputs": [],
   "source": []
  }
 ],
 "metadata": {
  "kernelspec": {
   "display_name": "Python 3",
   "language": "python",
   "name": "python3"
  },
  "language_info": {
   "codemirror_mode": {
    "name": "ipython",
    "version": 3
   },
   "file_extension": ".py",
   "mimetype": "text/x-python",
   "name": "python",
   "nbconvert_exporter": "python",
   "pygments_lexer": "ipython3",
   "version": "3.8.5"
  }
 },
 "nbformat": 4,
 "nbformat_minor": 5
}
