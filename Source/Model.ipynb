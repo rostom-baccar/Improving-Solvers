{
 "cells": [
  {
   "cell_type": "code",
   "execution_count": 5,
   "metadata": {},
   "outputs": [],
   "source": [
    "#Imports\n",
    "from sklearn import tree\n",
    "from matplotlib import pyplot as plt\n",
    "import numpy as np\n",
    "from sklearn.preprocessing import StandardScaler\n",
    "from sklearn.model_selection import train_test_split\n",
    "from sklearn.neural_network import MLPRegressor"
   ]
  },
  {
   "cell_type": "code",
   "execution_count": null,
   "metadata": {},
   "outputs": [
    {
     "name": "stdout",
     "output_type": "stream",
     "text": [
      "Train score  1 :  0.9394883977044124\n",
      "Test score  1 :  0.0\n",
      "\n",
      "\n"
     ]
    }
   ],
   "source": [
    "#Data formatting from txt file\n",
    "data = np.genfromtxt(\"C:\\\\Users\\wisse\\Desktop\\PIR-Improving-Solvers\\Data\\RawData.txt\", delimiter='')\n",
    "Input = data[:, :-6]\n",
    "\n",
    "#Applying scaling\n",
    "sc = StandardScaler()\n",
    "Input = sc.fit_transform(Input)\n",
    "\n",
    "#Applying multi-layer regression\n",
    "mlp = MLPRegressor(max_iter=10000, random_state=1) \n",
    "\n",
    "Output1 = data[:, -5]\n",
    "Output2 = data[:, -4]\n",
    "Output3 = data[:, -3]\n",
    "Output4 = data[:, -2]\n",
    "Output5 = data[:, -1]\n",
    "\n",
    "for i in range (1,6): \n",
    "    Output=data[:, i-6]\n",
    "    #Data splitting: training set & test set: 20% | 80%\n",
    "    x_train, x_test, y_train, y_test = train_test_split(Input, Output, random_state=1, test_size = 0.20)\n",
    "    #Training\n",
    "    mlp.fit(x_train, y_train)\n",
    "    \n",
    "    #Analyzing scores\n",
    "    print('Train score ',i,': ', mlp.score(x_train, y_train))\n",
    "    print('Test score ',i,': ', mlp.score(x_test, y_test))\n",
    "    print('\\n')\n",
    "\n"
   ]
  }
 ],
 "metadata": {
  "kernelspec": {
   "display_name": "Python 3",
   "language": "python",
   "name": "python3"
  },
  "language_info": {
   "codemirror_mode": {
    "name": "ipython",
    "version": 3
   },
   "file_extension": ".py",
   "mimetype": "text/x-python",
   "name": "python",
   "nbconvert_exporter": "python",
   "pygments_lexer": "ipython3",
   "version": "3.8.3"
  }
 },
 "nbformat": 4,
 "nbformat_minor": 5
}
