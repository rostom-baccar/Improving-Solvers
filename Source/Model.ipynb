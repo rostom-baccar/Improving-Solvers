{
 "cells": [
  {
   "cell_type": "code",
   "execution_count": 3,
   "metadata": {},
   "outputs": [],
   "source": [
    "#Imports\n",
    "from sklearn import tree\n",
    "from matplotlib import pyplot as plt\n",
    "import numpy as np\n",
    "from sklearn.preprocessing import StandardScaler\n",
    "from sklearn.model_selection import train_test_split\n",
    "from sklearn.neural_network import MLPRegressor"
   ]
  },
  {
   "cell_type": "code",
   "execution_count": 4,
   "metadata": {},
   "outputs": [],
   "source": [
    "#Data formatting from txt file\n",
    "data = np.genfromtxt(\"C:\\\\Users\\Rostom\\Desktop\\Misc\\Git Projects\\PIR-Improving-Solvers\\Data\\RawData.txt\", delimiter='')\n",
    "Input = data[:, :-1]\n",
    "Output = data[:, -1]\n",
    "\n",
    "#Applying scaling\n",
    "sc = StandardScaler()\n",
    "Input = sc.fit_transform(Input)"
   ]
  },
  {
   "cell_type": "code",
   "execution_count": 5,
   "metadata": {},
   "outputs": [],
   "source": [
    "#Data splitting: training set & test set: 20% | 80%\n",
    "x_train, x_test, y_train, y_test = train_test_split(Input, Output, random_state=1, test_size = 0.20)"
   ]
  },
  {
   "cell_type": "code",
   "execution_count": 6,
   "metadata": {},
   "outputs": [
    {
     "data": {
      "text/plain": [
       "MLPRegressor(max_iter=10000, random_state=1)"
      ]
     },
     "execution_count": 6,
     "metadata": {},
     "output_type": "execute_result"
    }
   ],
   "source": [
    "#Applying multi-layer regression\n",
    "mlp = MLPRegressor(max_iter=10000, random_state=1) \n",
    "\n",
    "#Training\n",
    "mlp.fit(x_train, y_train) "
   ]
  },
  {
   "cell_type": "code",
   "execution_count": 7,
   "metadata": {},
   "outputs": [
    {
     "name": "stdout",
     "output_type": "stream",
     "text": [
      "Train score:  0.9999602394921686\n",
      "Test score:   -2.168637264493718\n"
     ]
    }
   ],
   "source": [
    "#Analyzing scores\n",
    "print('Train score: ', mlp.score(x_train, y_train))\n",
    "print('Test score:  ', mlp.score(x_test, y_test))\n",
    "\n",
    "#Test score is very bad: mediocre prediction"
   ]
  },
  {
   "cell_type": "code",
   "execution_count": 8,
   "metadata": {},
   "outputs": [
    {
     "name": "stdout",
     "output_type": "stream",
     "text": [
      "[-1188887.06867715  -345673.34689756  -459457.1737044   -549598.31442545\n",
      "  -717797.53595271]\n"
     ]
    }
   ],
   "source": [
    "#Predicting output from \"new\" data (test just to see what the output looks like)\n",
    "newData = np.genfromtxt(\"C:\\\\Users\\Rostom\\Desktop\\Misc\\Git Projects\\PIR-Improving-Solvers\\Data\\\\newData.txt\", delimiter='')\n",
    "newOutput = mlp.predict(newData)\n",
    "print(newOutput)\n",
    "\n",
    "#Prediction is very bad"
   ]
  }
 ],
 "metadata": {
  "kernelspec": {
   "display_name": "Python 3",
   "language": "python",
   "name": "python3"
  },
  "language_info": {
   "codemirror_mode": {
    "name": "ipython",
    "version": 3
   },
   "file_extension": ".py",
   "mimetype": "text/x-python",
   "name": "python",
   "nbconvert_exporter": "python",
   "pygments_lexer": "ipython3",
   "version": "3.8.5"
  }
 },
 "nbformat": 4,
 "nbformat_minor": 5
}
